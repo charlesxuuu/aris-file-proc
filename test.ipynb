{
 "cells": [
  {
   "cell_type": "code",
   "execution_count": 23,
   "metadata": {},
   "outputs": [
    {
     "name": "stdout",
     "output_type": "stream",
     "text": [
      "Exists\n"
     ]
    }
   ],
   "source": [
    "import re\n",
    "import cv2\n",
    "import csv\n",
    "import time\n",
    "import pyARIS\n",
    "import threading\n",
    "import subprocess\n",
    "import numpy as np\n",
    "from my_utils import *\n",
    "from PIL import Image\n",
    "from tqdm import tqdm\n",
    "from dateutil import parser\n",
    "import matplotlib.pyplot as plt\n",
    "from multiprocessing import Process\n",
    "\n",
    "sonarDataDir = \"./sonar/\"\n",
    "outputDir = \"./output/\"\n",
    "\n",
    "def create_csv_file():\n",
    "    r = \"(.+)_(.+)\\.zip\"\n",
    "    with open(os.path.join(outputDir, \"fileInfo.csv\"), \"w\") as f:\n",
    "        csvWriter = csv.writer(f)\n",
    "        csvWriter.writerow([\"filename\", \"vid_path\", \"anno_path\"])\n",
    "\n",
    "        for item in os.listdir(os.path.join(sonarDataDir, \"annotation\")):\n",
    "            match = re.match(r, item)\n",
    "            date = parser.parse(match[1])\n",
    "            time = match[2]\n",
    "\n",
    "            ARISFolderPath = os.path.join(sonarDataDir, \"ARIS\", \"ARIS_%s\" %(date.strftime(\"%Y_%m_%d\")))\n",
    "            ARISFilePath = os.path.join(ARISFolderPath, \"%s_%s.aris\" %(date.strftime(\"%Y-%m-%d\"), time))\n",
    "\n",
    "            if os.path.exists(ARISFolderPath) and os.path.exists(ARISFilePath):\n",
    "                # TODO\n",
    "                # continue from here\n",
    "                print(\"Exists\")\n",
    "                break\n",
    "\n",
    "if __name__ == \"__main__\":\n",
    "    create_csv_file()"
   ]
  }
 ],
 "metadata": {
  "kernelspec": {
   "display_name": "tf",
   "language": "python",
   "name": "python3"
  },
  "language_info": {
   "codemirror_mode": {
    "name": "ipython",
    "version": 3
   },
   "file_extension": ".py",
   "mimetype": "text/x-python",
   "name": "python",
   "nbconvert_exporter": "python",
   "pygments_lexer": "ipython3",
   "version": "3.9.16"
  },
  "orig_nbformat": 4
 },
 "nbformat": 4,
 "nbformat_minor": 2
}
