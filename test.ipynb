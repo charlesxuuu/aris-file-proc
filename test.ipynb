{
 "cells": [
  {
   "cell_type": "code",
   "execution_count": 5,
   "metadata": {},
   "outputs": [
    {
     "name": "stderr",
     "output_type": "stream",
     "text": [
      "<>:23: DeprecationWarning: invalid escape sequence \\.\n",
      "<>:23: DeprecationWarning: invalid escape sequence \\.\n",
      "/tmp/ipykernel_17280/3215951093.py:23: DeprecationWarning: invalid escape sequence \\.\n",
      "  r = \"(.+)_(.+)\\.zip\"\n"
     ]
    },
    {
     "name": "stdout",
     "output_type": "stream",
     "text": [
      "Processing ./sonar/ARIS/ARIS_2020_05_31/2020-05-31_015000.aris\n"
     ]
    },
    {
     "name": "stderr",
     "output_type": "stream",
     "text": [
      "  0%|          | 0/2768 [00:00<?, ?it/s]ffmpeg version 4.2.2 Copyright (c) 2000-2019 the FFmpeg developers\n",
      "  built with gcc 7.3.0 (crosstool-NG 1.23.0.449-a04d0)\n",
      "  configuration: --prefix=/tmp/build/80754af9/ffmpeg_1587154242452/_h_env_placehold_placehold_placehold_placehold_placehold_placehold_placehold_placehold_placehold_placehold_placehold_placehold_placehold_placehold_placehold_placehold_placehold_placehold_placehold_placehold_placeho --cc=/tmp/build/80754af9/ffmpeg_1587154242452/_build_env/bin/x86_64-conda_cos6-linux-gnu-cc --disable-doc --enable-avresample --enable-gmp --enable-hardcoded-tables --enable-libfreetype --enable-libvpx --enable-pthreads --enable-libopus --enable-postproc --enable-pic --enable-pthreads --enable-shared --enable-static --enable-version3 --enable-zlib --enable-libmp3lame --disable-nonfree --enable-gpl --enable-gnutls --disable-openssl --enable-libopenh264 --enable-libx264\n",
      "  libavutil      56. 31.100 / 56. 31.100\n",
      "  libavcodec     58. 54.100 / 58. 54.100\n",
      "  libavformat    58. 29.100 / 58. 29.100\n",
      "  libavdevice    58.  8.100 / 58.  8.100\n",
      "  libavfilter     7. 57.100 /  7. 57.100\n",
      "  libavresample   4.  0.  0 /  4.  0.  0\n",
      "  libswscale      5.  5.100 /  5.  5.100\n",
      "  libswresample   3.  5.100 /  3.  5.100\n",
      "  libpostproc    55.  5.100 / 55.  5.100\n",
      "  2%|▏         | 48/2768 [00:00<00:20, 130.55it/s]Input #0, image2pipe, from 'pipe:':\n",
      "  Duration: N/A, bitrate: N/A\n",
      "    Stream #0:0: Video: mjpeg (Baseline), gray(bt470bg/unknown/unknown), 620x1278 [SAR 1:1 DAR 310:639], 24 fps, 24 tbr, 24 tbn, 24 tbc\n",
      "Stream mapping:\n",
      "  Stream #0:0 -> #0:0 (mjpeg (native) -> h264 (libx264))\n",
      "[libx264 @ 0x562447943a00] using SAR=1/1\n",
      "[libx264 @ 0x562447943a00] using cpu capabilities: MMX2 SSE2Fast SSSE3 SSE4.2 AVX FMA3 BMI2 AVX2\n",
      "[libx264 @ 0x562447943a00] profile High 4:4:4 Predictive, level 3.1, 4:0:0, 8-bit\n",
      "[libx264 @ 0x562447943a00] 64 - core 157 - H.264/MPEG-4 AVC codec - Copyleft 2003-2018 - http://www.videolan.org/x264.html - options: cabac=1 ref=3 deblock=1:0:0 analyse=0x1:0x111 me=hex subme=7 psy=0 mixed_ref=1 me_range=16 chroma_me=0 trellis=0 8x8dct=1 cqm=0 deadzone=21,11 fast_pskip=0 chroma_qp_offset=0 threads=30 lookahead_threads=5 sliced_threads=0 nr=0 decimate=1 interlaced=0 bluray_compat=0 constrained_intra=0 bframes=0 weightp=2 keyint=250 keyint_min=24 scenecut=40 intra_refresh=0 rc=cqp mbtree=0 qp=0\n",
      "Output #0, mp4, to './output/video/ARIS_2020_05_31/2020-05-31_015000.mp4':\n",
      "  Metadata:\n",
      "    encoder         : Lavf58.29.100\n",
      "    Stream #0:0: Video: h264 (libx264) (avc1 / 0x31637661), gray, 620x1278 [SAR 1:1 DAR 310:639], q=-1--1, 24 fps, 12288 tbn, 24 tbc\n",
      "    Metadata:\n",
      "      encoder         : Lavc58.54.100 libx264\n",
      "    Side data:\n",
      "      cpb: bitrate max/min/avg: 0/0/0 buffer size: 0 vbv_delay: -1\n",
      "100%|██████████| 2768/2768 [00:38<00:00, 72.60it/s]rame=  422 fps= 63 q=0.0 size=  110336kB time=00:00:16.25 bitrate=55622.7kbits/s speed=2.43x    frame=   99 fps= 96 q=0.0 size=   18944kB time=00:00:02.79 bitrate=55588.7kbits/s speed=2.72x    frame=  126 fps= 83 q=0.0 size=   26624kB time=00:00:03.91 bitrate=55685.0kbits/s speed=2.57x    frame=  154 fps= 75 q=0.0 size=   34560kB time=00:00:05.08 bitrate=55694.0kbits/s speed=2.47x    frame=  179 fps= 70 q=0.0 size=   41728kB time=00:00:06.12 bitrate=55809.2kbits/s speed=2.39x    frame=  212 fps= 69 q=0.0 size=   50944kB time=00:00:07.50 bitrate=55643.9kbits/s speed=2.45x    frame=  242 fps= 67 q=0.0 size=   59392kB time=00:00:08.75 bitrate=55604.0kbits/s speed=2.44x    frame=  271 fps= 66 q=0.0 size=   67584kB time=00:00:09.95 bitrate=55596.0kbits/s speed=2.42x    frame=  300 fps= 64 q=0.0 size=   75776kB time=00:00:11.16 bitrate=55589.8kbits/s speed= 2.4x    frame=  329 fps= 64 q=0.0 size=   83968kB time=00:00:12.37 bitrate=55584.8kbits/s speed= 2.4x    frame=  353 fps= 62 q=0.0 size=   90880kB time=00:00:13.37 bitrate=55662.4kbits/s speed=2.36x    frame=  392 fps= 64 q=0.0 size=  101888kB time=00:00:15.00 bitrate=55644.2kbits/s speed=2.43x    frame=  455 fps= 63 q=0.0 size=  119552kB time=00:00:17.62 bitrate=55566.9kbits/s speed=2.45x    frame=  487 fps= 63 q=0.0 size=  128768kB time=00:00:18.95 bitrate=55641.1kbits/s speed=2.46x    frame=  515 fps= 63 q=0.0 size=  136704kB time=00:00:20.12 bitrate=55646.0kbits/s speed=2.45x    frame=  552 fps= 63 q=0.0 size=  146944kB time=00:00:21.66 bitrate=55558.2kbits/s speed=2.48x    frame=  582 fps= 63 q=0.0 size=  155392kB time=00:00:22.91 bitrate=55547.7kbits/s speed=2.48x    frame=  618 fps= 64 q=0.0 size=  165632kB time=00:00:24.41 bitrate=55570.8kbits/s speed=2.51x    frame=  648 fps= 63 q=0.0 size=  174080kB time=00:00:25.66 bitrate=55560.7kbits/s speed=2.51x    frame=  677 fps= 63 q=0.0 size=  182272kB time=00:00:26.87 bitrate=55559.7kbits/s speed= 2.5x    frame=  718 fps= 64 q=0.0 size=  194048kB time=00:00:28.58 bitrate=55614.1kbits/s speed=2.54x    frame=  748 fps= 64 q=0.0 size=  202496kB time=00:00:29.83 bitrate=55603.7kbits/s speed=2.53x    frame=  788 fps= 64 q=0.0 size=  213760kB time=00:00:31.50 bitrate=55591.0kbits/s speed=2.56x    frame=  827 fps= 65 q=0.0 size=  224768kB time=00:00:33.12 bitrate=55586.3kbits/s speed=2.59x    frame=  857 fps= 64 q=0.0 size=  233216kB time=00:00:34.37 bitrate=55578.2kbits/s speed=2.58x    frame=  905 fps= 65 q=0.0 size=  246784kB time=00:00:36.37 bitrate=55578.0kbits/s speed=2.63x    frame=  944 fps= 66 q=0.0 size=  257792kB time=00:00:38.00 bitrate=55574.4kbits/s speed=2.65x    frame=  984 fps= 66 q=0.0 size=  269056kB time=00:00:39.66 bitrate=55565.6kbits/s speed=2.67x    frame= 1013 fps= 66 q=0.0 size=  277248kB time=00:00:40.87 bitrate=55564.8kbits/s speed=2.66x    frame= 1062 fps= 67 q=0.0 size=  291072kB time=00:00:42.91 bitrate=55560.2kbits/s speed= 2.7x    frame= 1098 fps= 67 q=0.0 size=  301312kB time=00:00:44.41 bitrate=55572.5kbits/s speed=2.71x    frame= 1136 fps= 67 q=0.0 size=  312064kB time=00:00:46.00 bitrate=55574.4kbits/s speed=2.72x    frame= 1165 fps= 67 q=0.0 size=  320256kB time=00:00:47.20 bitrate=55573.5kbits/s speed=2.71x    frame= 1203 fps= 67 q=0.0 size=  331008kB time=00:00:48.79 bitrate=55575.3kbits/s speed=2.72x    frame= 1242 fps= 67 q=0.0 size=  342016kB time=00:00:50.41 bitrate=55572.7kbits/s speed=2.73x    frame= 1281 fps= 68 q=0.0 size=  353024kB time=00:00:52.04 bitrate=55570.3kbits/s speed=2.75x    frame= 1321 fps= 68 q=0.0 size=  364288kB time=00:00:53.70 bitrate=55563.9kbits/s speed=2.76x    frame= 1355 fps= 68 q=0.0 size=  374016kB time=00:00:55.12 bitrate=55581.6kbits/s speed=2.76x    frame= 1400 fps= 68 q=0.0 size=  386560kB time=00:00:57.00 bitrate=55556.1kbits/s speed=2.79x    frame= 1433 fps= 68 q=0.0 size=  396032kB time=00:00:58.37 bitrate=55576.7kbits/s speed=2.78x    frame= 1469 fps= 68 q=0.0 size=  406016kB time=00:00:59.87 bitrate=55550.4kbits/s speed=2.79x    frame= 1498 fps= 68 q=0.0 size=  414208kB time=00:01:01.08 bitrate=55550.1kbits/s speed=2.78x    frame= 1546 fps= 69 q=0.0 size=  427776kB time=00:01:03.08 bitrate=55550.9kbits/s speed=2.81x    frame= 1583 fps= 69 q=0.0 size=  438272kB time=00:01:04.62 bitrate=55556.2kbits/s speed=2.81x    frame= 1621 fps= 69 q=0.0 size=  449024kB time=00:01:06.20 bitrate=55558.0kbits/s speed=2.82x    frame= 1658 fps= 69 q=0.0 size=  459520kB time=00:01:07.75 bitrate=55562.9kbits/s speed=2.82x    frame= 1704 fps= 70 q=0.0 size=  472576kB time=00:01:09.66 bitrate=55569.5kbits/s speed=2.84x    frame= 1745 fps= 70 q=0.0 size=  484096kB time=00:01:11.37 bitrate=55561.6kbits/s speed=2.85x    frame= 1784 fps= 70 q=0.0 size=  495104kB time=00:01:13.00 bitrate=55560.1kbits/s speed=2.86x    frame= 1822 fps= 70 q=0.0 size=  505856kB time=00:01:14.58 bitrate=55561.6kbits/s speed=2.86x    frame= 1862 fps= 70 q=0.0 size=  517120kB time=00:01:16.25 bitrate=55557.3kbits/s speed=2.87x    frame= 1904 fps= 70 q=0.0 size=  528896kB time=00:01:18.00 bitrate=55547.6kbits/s speed=2.88x    frame= 1942 fps= 70 q=0.0 size=  539648kB time=00:01:19.58 bitrate=55549.2kbits/s speed=2.89x    frame= 1982 fps= 71 q=0.0 size=  551168kB time=00:01:21.25 bitrate=55571.3kbits/s speed=2.89x    frame= 2029 fps= 71 q=0.0 size=  564224kB time=00:01:23.20 bitrate=55548.7kbits/s speed=2.91x    frame= 2069 fps= 71 q=0.0 size=  575744kB time=00:01:24.87 bitrate=55569.8kbits/s speed=2.92x    frame= 2109 fps= 71 q=0.0 size=  587008kB time=00:01:26.54 bitrate=55565.9kbits/s speed=2.92x    frame= 2145 fps= 71 q=0.0 size=  597248kB time=00:01:28.04 bitrate=55572.0kbits/s speed=2.92x    frame= 2188 fps= 71 q=0.0 size=  609280kB time=00:01:29.83 bitrate=55560.9kbits/s speed=2.93x    frame= 2231 fps= 72 q=0.0 size=  621312kB time=00:01:31.62 bitrate=55550.2kbits/s speed=2.94x    frame= 2272 fps= 72 q=0.0 size=  633088kB time=00:01:33.33 bitrate=55567.0kbits/s speed=2.95x    frame= 2311 fps= 72 q=0.0 size=  644096kB time=00:01:34.95 bitrate=55565.7kbits/s speed=2.95x    frame= 2360 fps= 72 q=0.0 size=  657920kB time=00:01:37.00 bitrate=55563.7kbits/s speed=2.97x    frame= 2399 fps= 72 q=0.0 size=  668928kB time=00:01:38.62 bitrate=55562.5kbits/s speed=2.97x    frame= 2438 fps= 72 q=0.0 size=  679936kB time=00:01:40.25 bitrate=55561.4kbits/s speed=2.98x    frame= 2472 fps= 72 q=0.0 size=  689664kB time=00:01:41.66 bitrate=55571.0kbits/s speed=2.97x    frame= 2517 fps= 73 q=0.0 size=  702208kB time=00:01:43.54 bitrate=55557.2kbits/s speed=2.99x    frame= 2554 fps= 73 q=0.0 size=  712704kB time=00:01:45.08 bitrate=55560.4kbits/s speed=2.99x    frame= 2601 fps= 73 q=0.0 size=  726016kB time=00:01:47.04 bitrate=55562.7kbits/s speed=   3x    frame= 2642 fps= 73 q=0.0 size=  737536kB time=00:01:48.75 bitrate=55557.6kbits/s speed=   3x    frame= 2681 fps= 73 q=0.0 size=  748544kB time=00:01:50.37 bitrate=55556.7kbits/s speed=3.01x    frame= 2726 fps= 73 q=0.0 size=  761344kB time=00:01:52.25 bitrate=55562.8kbits/s speed=3.02x    frame= 2765 fps= 73 q=0.0 size=  772352kB time=00:01:53.87 bitrate=55561.8kbits/s speed=3.02x    \n",
      "frame= 2768 fps= 73 q=-1.0 Lsize=  782073kB time=00:01:55.29 bitrate=55569.8kbits/s speed=3.04x    \n",
      "video:782057kB audio:0kB subtitle:0kB other streams:0kB global headers:0kB muxing overhead: 0.001957%\n",
      "[libx264 @ 0x562447943a00] frame I:17    Avg QP: 0.00  size:295025\n",
      "[libx264 @ 0x562447943a00] frame P:2751  Avg QP: 0.00  size:289281\n",
      "[libx264 @ 0x562447943a00] mb I  I16..4: 45.8%  0.0% 54.2%\n",
      "[libx264 @ 0x562447943a00] mb P  I16..4:  0.1%  0.0% 43.1%  P16..4:  4.1%  4.2%  4.0%  0.0%  0.0%    skip:44.6%\n",
      "[libx264 @ 0x562447943a00] 8x8 transform intra:0.0% inter:42.2%\n",
      "[libx264 @ 0x562447943a00] coded y intra: 98.8% inter: 17.3%\n",
      "[libx264 @ 0x562447943a00] i16 v,h,dc,p: 77% 22%  1%  0%\n",
      "[libx264 @ 0x562447943a00] i4 v,h,dc,ddl,ddr,vr,hd,vl,hu:  2% 80%  4%  2%  2%  1%  4%  1%  4%\n",
      "[libx264 @ 0x562447943a00] i8c dc,h,v,p: 100%  0%  0%  0%\n",
      "[libx264 @ 0x562447943a00] Weighted P-Frames: Y:0.0%\n",
      "[libx264 @ 0x562447943a00] ref P L0: 33.8%  5.2% 32.3% 28.7%\n",
      "[libx264 @ 0x562447943a00] kb/s:55548.64\n"
     ]
    },
    {
     "name": "stdout",
     "output_type": "stream",
     "text": [
      "Processing ./sonar/ARIS/ARIS_2020_05_31/2020-05-31_020000.aris\n"
     ]
    },
    {
     "name": "stderr",
     "output_type": "stream",
     "text": [
      "  0%|          | 0/2742 [00:00<?, ?it/s]ffmpeg version 4.2.2 Copyright (c) 2000-2019 the FFmpeg developers\n",
      "  built with gcc 7.3.0 (crosstool-NG 1.23.0.449-a04d0)\n",
      "  configuration: --prefix=/tmp/build/80754af9/ffmpeg_1587154242452/_h_env_placehold_placehold_placehold_placehold_placehold_placehold_placehold_placehold_placehold_placehold_placehold_placehold_placehold_placehold_placehold_placehold_placehold_placehold_placehold_placehold_placeho --cc=/tmp/build/80754af9/ffmpeg_1587154242452/_build_env/bin/x86_64-conda_cos6-linux-gnu-cc --disable-doc --enable-avresample --enable-gmp --enable-hardcoded-tables --enable-libfreetype --enable-libvpx --enable-pthreads --enable-libopus --enable-postproc --enable-pic --enable-pthreads --enable-shared --enable-static --enable-version3 --enable-zlib --enable-libmp3lame --disable-nonfree --enable-gpl --enable-gnutls --disable-openssl --enable-libopenh264 --enable-libx264\n",
      "  libavutil      56. 31.100 / 56. 31.100\n",
      "  libavcodec     58. 54.100 / 58. 54.100\n",
      "  libavformat    58. 29.100 / 58. 29.100\n",
      "  libavdevice    58.  8.100 / 58.  8.100\n",
      "  libavfilter     7. 57.100 /  7. 57.100\n",
      "  libavresample   4.  0.  0 /  4.  0.  0\n",
      "  libswscale      5.  5.100 /  5.  5.100\n",
      "  libswresample   3.  5.100 /  3.  5.100\n",
      "  libpostproc    55.  5.100 / 55.  5.100\n",
      "  1%|▏         | 37/2742 [00:00<00:07, 364.53it/s]Input #0, image2pipe, from 'pipe:':\n",
      "  Duration: N/A, bitrate: N/A\n",
      "    Stream #0:0: Video: mjpeg (Baseline), gray(bt470bg/unknown/unknown), 620x1278 [SAR 1:1 DAR 310:639], 24 fps, 24 tbr, 24 tbn, 24 tbc\n",
      "Stream mapping:\n",
      "  Stream #0:0 -> #0:0 (mjpeg (native) -> h264 (libx264))\n",
      "[libx264 @ 0x562379e21a00] using SAR=1/1\n",
      "[libx264 @ 0x562379e21a00] using cpu capabilities: MMX2 SSE2Fast SSSE3 SSE4.2 AVX FMA3 BMI2 AVX2\n",
      "[libx264 @ 0x562379e21a00] profile High 4:4:4 Predictive, level 3.1, 4:0:0, 8-bit\n",
      "[libx264 @ 0x562379e21a00] 64 - core 157 - H.264/MPEG-4 AVC codec - Copyleft 2003-2018 - http://www.videolan.org/x264.html - options: cabac=1 ref=3 deblock=1:0:0 analyse=0x1:0x111 me=hex subme=7 psy=0 mixed_ref=1 me_range=16 chroma_me=0 trellis=0 8x8dct=1 cqm=0 deadzone=21,11 fast_pskip=0 chroma_qp_offset=0 threads=30 lookahead_threads=5 sliced_threads=0 nr=0 decimate=1 interlaced=0 bluray_compat=0 constrained_intra=0 bframes=0 weightp=2 keyint=250 keyint_min=24 scenecut=40 intra_refresh=0 rc=cqp mbtree=0 qp=0\n",
      "Output #0, mp4, to './output/video/ARIS_2020_05_31/2020-05-31_020000.mp4':\n",
      "  Metadata:\n",
      "    encoder         : Lavf58.29.100\n",
      "    Stream #0:0: Video: h264 (libx264) (avc1 / 0x31637661), gray, 620x1278 [SAR 1:1 DAR 310:639], q=-1--1, 24 fps, 12288 tbn, 24 tbc\n",
      "    Metadata:\n",
      "      encoder         : Lavc58.54.100 libx264\n",
      "    Side data:\n",
      "      cpb: bitrate max/min/avg: 0/0/0 buffer size: 0 vbv_delay: -1\n",
      "100%|██████████| 2742/2742 [00:32<00:00, 84.32it/s] ame=   81 fps=0.0 q=0.0 size=   14080kB time=00:00:02.04 bitrate=56492.6kbits/s speed=4.02x    frame=  123 fps=120 q=0.0 size=   25856kB time=00:00:03.79 bitrate=55861.5kbits/s speed=3.71x    frame=  163 fps=107 q=0.0 size=   37120kB time=00:00:05.45 bitrate=55709.8kbits/s speed=3.57x    frame=  198 fps= 97 q=0.0 size=   47104kB time=00:00:06.91 bitrate=55788.7kbits/s speed= 3.4x    frame=  242 fps= 95 q=0.0 size=   59392kB time=00:00:08.75 bitrate=55604.0kbits/s speed=3.44x    frame=  282 fps= 92 q=0.0 size=   70656kB time=00:00:10.41 bitrate=55565.7kbits/s speed= 3.4x    frame=  322 fps= 90 q=0.0 size=   81920kB time=00:00:12.08 bitrate=55538.0kbits/s speed=3.38x    frame=  359 fps= 88 q=0.0 size=   92416kB time=00:00:13.62 bitrate=55564.6kbits/s speed=3.33x    frame=  407 fps= 89 q=0.0 size=  105984kB time=00:00:15.62 bitrate=55565.9kbits/s speed=3.41x    frame=  447 fps= 87 q=0.0 size=  117248kB time=00:00:17.29 bitrate=55546.5kbits/s speed=3.38x    frame=  487 fps= 87 q=0.0 size=  128768kB time=00:00:18.95 bitrate=55641.1kbits/s speed=3.38x    frame=  523 fps= 85 q=0.0 size=  138752kB time=00:00:20.45 bitrate=55559.4kbits/s speed=3.34x    frame=  572 fps= 86 q=0.0 size=  152576kB time=00:00:22.50 bitrate=55551.0kbits/s speed=3.39x    frame=  612 fps= 86 q=0.0 size=  163840kB time=00:00:24.16 bitrate=55538.2kbits/s speed=3.38x    frame=  650 fps= 85 q=0.0 size=  174592kB time=00:00:25.75 bitrate=55543.8kbits/s speed=3.37x    frame=  680 fps= 83 q=0.0 size=  183040kB time=00:00:27.00 bitrate=55535.5kbits/s speed=3.31x    frame=  732 fps= 84 q=0.0 size=  197888kB time=00:00:29.16 bitrate=55580.4kbits/s speed=3.36x    frame=  771 fps= 84 q=0.0 size=  208896kB time=00:00:30.79 bitrate=55575.8kbits/s speed=3.36x    frame=  813 fps= 84 q=0.0 size=  220672kB time=00:00:32.54 bitrate=55551.6kbits/s speed=3.36x    frame=  847 fps= 83 q=0.0 size=  230400kB time=00:00:33.95 bitrate=55580.8kbits/s speed=3.33x    frame=  896 fps= 84 q=0.0 size=  244224kB time=00:00:36.00 bitrate=55574.4kbits/s speed=3.37x    frame=  936 fps= 84 q=0.0 size=  255488kB time=00:00:37.66 bitrate=55565.1kbits/s speed=3.36x    frame=  976 fps= 83 q=0.0 size=  266752kB time=00:00:39.33 bitrate=55556.6kbits/s speed=3.36x    frame= 1003 fps= 82 q=0.0 size=  274432kB time=00:00:40.45 bitrate=55566.9kbits/s speed=3.31x    frame= 1049 fps= 82 q=0.0 size=  287488kB time=00:00:42.37 bitrate=55577.5kbits/s speed=3.33x    frame= 1091 fps= 82 q=0.0 size=  299264kB time=00:00:44.12 bitrate=55559.6kbits/s speed=3.33x    frame= 1131 fps= 82 q=0.0 size=  310528kB time=00:00:45.79 bitrate=55552.5kbits/s speed=3.33x    frame= 1167 fps= 82 q=0.0 size=  320768kB time=00:00:47.29 bitrate=55564.3kbits/s speed=3.32x    frame= 1215 fps= 82 q=0.0 size=  334336kB time=00:00:49.29 bitrate=55564.7kbits/s speed=3.34x    frame= 1255 fps= 82 q=0.0 size=  345600kB time=00:00:50.95 bitrate=55558.2kbits/s speed=3.34x    frame= 1297 fps= 82 q=0.0 size=  357376kB time=00:00:52.70 bitrate=55543.8kbits/s speed=3.34x    frame= 1333 fps= 82 q=0.0 size=  367616kB time=00:00:54.20 bitrate=55554.3kbits/s speed=3.33x    frame= 1381 fps= 82 q=0.0 size=  381184kB time=00:00:56.20 bitrate=55555.0kbits/s speed=3.35x    frame= 1426 fps= 82 q=0.0 size=  393984kB time=00:00:58.08 bitrate=55566.9kbits/s speed=3.36x    frame= 1470 fps= 83 q=0.0 size=  406272kB time=00:00:59.91 bitrate=55546.7kbits/s speed=3.37x    frame= 1508 fps= 82 q=0.0 size=  417024kB time=00:01:01.50 bitrate=55548.9kbits/s speed=3.36x    frame= 1563 fps= 83 q=0.0 size=  432640kB time=00:01:03.79 bitrate=55558.7kbits/s speed=3.39x    frame= 1607 fps= 83 q=0.0 size=  444928kB time=00:01:05.62 bitrate=55540.5kbits/s speed= 3.4x    frame= 1648 fps= 83 q=0.0 size=  456704kB time=00:01:07.33 bitrate=55564.1kbits/s speed= 3.4x    frame= 1696 fps= 83 q=0.0 size=  470272kB time=00:01:09.33 bitrate=55564.4kbits/s speed=3.41x    frame= 1742 fps= 84 q=0.0 size=  483072kB time=00:01:11.25 bitrate=55541.4kbits/s speed=3.42x    frame= 1785 fps= 84 q=0.0 size=  495360kB time=00:01:13.04 bitrate=55557.1kbits/s speed=3.42x    frame= 1822 fps= 83 q=0.0 size=  505600kB time=00:01:14.58 bitrate=55533.5kbits/s speed=3.41x    frame= 1872 fps= 84 q=0.0 size=  519936kB time=00:01:16.66 bitrate=55556.2kbits/s speed=3.43x    frame= 1914 fps= 84 q=0.0 size=  531712kB time=00:01:18.41 bitrate=55546.6kbits/s speed=3.43x    frame= 1956 fps= 84 q=0.0 size=  543488kB time=00:01:20.16 bitrate=55537.4kbits/s speed=3.43x    frame= 1997 fps= 84 q=0.0 size=  555264kB time=00:01:21.87 bitrate=55556.9kbits/s speed=3.43x    frame= 2046 fps= 84 q=0.0 size=  569088kB time=00:01:23.91 bitrate=55554.7kbits/s speed=3.44x    frame= 2092 fps= 84 q=0.0 size=  581888kB time=00:01:25.83 bitrate=55535.8kbits/s speed=3.45x    frame= 2129 fps= 84 q=0.0 size=  592384kB time=00:01:27.37 bitrate=55540.0kbits/s speed=3.44x    frame= 2177 fps= 84 q=0.0 size=  605952kB time=00:01:29.37 bitrate=55540.8kbits/s speed=3.45x    frame= 2228 fps= 84 q=0.0 size=  620288kB time=00:01:31.50 bitrate=55534.4kbits/s speed=3.46x    frame= 2275 fps= 85 q=0.0 size=  633600kB time=00:01:33.45 bitrate=55537.6kbits/s speed=3.47x    frame= 2308 fps= 84 q=0.0 size=  643072kB time=00:01:34.83 bitrate=55550.5kbits/s speed=3.45x    frame= 2363 fps= 85 q=0.0 size=  658432kB time=00:01:37.12 bitrate=55535.3kbits/s speed=3.47x    frame= 2405 fps= 84 q=0.0 size=  670464kB time=00:01:38.87 bitrate=55549.3kbits/s speed=3.47x    frame= 2451 fps= 85 q=0.0 size=  683264kB time=00:01:40.79 bitrate=55533.3kbits/s speed=3.48x    frame= 2492 fps= 85 q=0.0 size=  695040kB time=00:01:42.50 bitrate=55548.9kbits/s speed=3.48x    frame= 2542 fps= 85 q=0.0 size=  709120kB time=00:01:44.58 bitrate=55545.2kbits/s speed=3.49x    frame= 2579 fps= 85 q=0.0 size=  719616kB time=00:01:46.12 bitrate=55548.6kbits/s speed=3.48x    frame= 2625 fps= 85 q=0.0 size=  732416kB time=00:01:48.04 bitrate=55533.6kbits/s speed=3.48x    frame= 2670 fps= 85 q=0.0 size=  745216kB time=00:01:49.91 bitrate=55540.3kbits/s speed=3.49x    frame= 2717 fps= 85 q=0.0 size=  758528kB time=00:01:51.87 bitrate=55542.9kbits/s speed=3.49x    \n",
      "frame= 2742 fps= 84 q=-1.0 Lsize=  774461kB time=00:01:54.20 bitrate=55550.9kbits/s speed=3.51x    \n",
      "video:774446kB audio:0kB subtitle:0kB other streams:0kB global headers:0kB muxing overhead: 0.001957%\n",
      "[libx264 @ 0x562379e21a00] frame I:17    Avg QP: 0.00  size:294832\n",
      "[libx264 @ 0x562379e21a00] frame P:2725  Avg QP: 0.00  size:289182\n",
      "[libx264 @ 0x562379e21a00] mb I  I16..4..PCM: 45.8%  0.0% 54.2%  0.0%\n",
      "[libx264 @ 0x562379e21a00] mb P  I16..4..PCM:  0.1%  0.0% 43.0%  0.0%  P16..4:  4.1%  4.2%  4.1%  0.0%  0.0%    skip:44.6%\n",
      "[libx264 @ 0x562379e21a00] 8x8 transform intra:0.0% inter:42.1%\n",
      "[libx264 @ 0x562379e21a00] coded y intra: 98.8% inter: 17.4%\n",
      "[libx264 @ 0x562379e21a00] i16 v,h,dc,p: 83% 16%  1%  0%\n",
      "[libx264 @ 0x562379e21a00] i4 v,h,dc,ddl,ddr,vr,hd,vl,hu:  2% 80%  4%  2%  2%  1%  4%  1%  4%\n",
      "[libx264 @ 0x562379e21a00] i8c dc,h,v,p: 100%  0%  0%  0%\n",
      "[libx264 @ 0x562379e21a00] Weighted P-Frames: Y:0.0%\n",
      "[libx264 @ 0x562379e21a00] ref P L0: 33.8%  5.1% 32.3% 28.7%\n",
      "[libx264 @ 0x562379e21a00] kb/s:55529.58\n",
      "2023-08-26 17:30:31 INFO     Extracting frames ./output/video/ARIS_2020_05_31/2020-05-31_015000.mp4\n",
      "2023-08-26 17:30:31 INFO     Extracting frames ./output/video/ARIS_2020_05_31/2020-05-31_020000.mp4\n",
      "2023-08-26 17:31:15 INFO     Unzipping and importing CVAT...\n",
      "/home/henry/anaconda3/envs/tf/lib/python3.9/site-packages/datumaro/util/annotation_util.py:157: DeprecationWarning: Conversion of an array with ndim > 0 to a scalar is deprecated, and will error in future. Ensure you extract a single element from your array before performing this operation. (Deprecated NumPy 1.25.)\n",
      "  return float(mask_utils.iou(a, b, [not is_bbox]))\n"
     ]
    },
    {
     "name": "stdout",
     "output_type": "stream",
     "text": [
      "Archive:  ./sonar/annotation/2020-05-31_020000.zip\n",
      " extracting: /home/henry/projects/salmon_counting/aris-file-proc/output/annotation/cvat_2020-05-31_020000/annotations.xml  \n"
     ]
    },
    {
     "name": "stderr",
     "output_type": "stream",
     "text": [
      "2023-08-26 17:31:15 INFO     Exporting as datumaro to /home/henry/projects/salmon_counting/aris-file-proc/output/datum_proj/2020-05-31_020000\n",
      "2023-08-26 17:31:15 INFO     Generating seqinfo.ini file to /home/henry/projects/salmon_counting/aris-file-proc/output/datum_proj_inis/2020-05-31_020000/seqinfo.ini\n",
      "2023-08-26 17:31:15 INFO     Unzipping and importing CVAT...\n",
      "/home/henry/anaconda3/envs/tf/lib/python3.9/site-packages/datumaro/util/annotation_util.py:157: DeprecationWarning: Conversion of an array with ndim > 0 to a scalar is deprecated, and will error in future. Ensure you extract a single element from your array before performing this operation. (Deprecated NumPy 1.25.)\n",
      "  return float(mask_utils.iou(a, b, [not is_bbox]))\n"
     ]
    },
    {
     "name": "stdout",
     "output_type": "stream",
     "text": [
      "Archive:  ./sonar/annotation/2020-05-31_015000.zip\n",
      " extracting: /home/henry/projects/salmon_counting/aris-file-proc/output/annotation/cvat_2020-05-31_015000/annotations.xml  \n"
     ]
    },
    {
     "name": "stderr",
     "output_type": "stream",
     "text": [
      "2023-08-26 17:31:15 INFO     Exporting as datumaro to /home/henry/projects/salmon_counting/aris-file-proc/output/datum_proj/2020-05-31_015000\n",
      "2023-08-26 17:31:15 INFO     Generating seqinfo.ini file to /home/henry/projects/salmon_counting/aris-file-proc/output/datum_proj_inis/2020-05-31_015000/seqinfo.ini\n"
     ]
    },
    {
     "name": "stdout",
     "output_type": "stream",
     "text": [
      "Done\n"
     ]
    }
   ],
   "source": [
    "import re\n",
    "import cv2\n",
    "import csv\n",
    "import time\n",
    "import pyARIS\n",
    "import threading\n",
    "import subprocess\n",
    "import numpy as np\n",
    "import datumaro as dm\n",
    "from my_utils import *\n",
    "from PIL import Image\n",
    "from tqdm import tqdm\n",
    "from dateutil import parser\n",
    "import matplotlib.pyplot as plt\n",
    "from multiprocessing import Process\n",
    "\n",
    "sonarDataDir = \"./sonar/\"\n",
    "outputDir = \"./output/\"\n",
    "\n",
    "def preprocess_data_and_generate_csv_file():\n",
    "    output_video_folder_path = os.path.join(outputDir, \"video\")\n",
    "    create_folder(output_video_folder_path)\n",
    "    r = \"(.+)_(.+)\\.zip\"\n",
    "\n",
    "    with open(os.path.join(outputDir, \"fileInfo.csv\"), \"w\") as f:\n",
    "        csvWriter = csv.writer(f)\n",
    "        csvWriter.writerow([\"filename\", \"vid_path\", \"anno_path\"])\n",
    "\n",
    "        for item in os.listdir(os.path.join(sonarDataDir, \"annotation\")):\n",
    "            match = re.match(r, item)\n",
    "            date = parser.parse(match[1])\n",
    "            time = match[2]\n",
    "\n",
    "            ARISfolderName = \"ARIS_%s\" %(date.strftime(\"%Y_%m_%d\"))\n",
    "            ARISFolderPath = os.path.join(sonarDataDir, \"ARIS\", ARISfolderName)\n",
    "            ARISFilePath = os.path.join(ARISFolderPath, \"%s_%s.aris\" %(date.strftime(\"%Y-%m-%d\"), time))\n",
    "            \n",
    "            # From annotation folder, find the corresponding ARIS file and preprocess\n",
    "            if os.path.exists(ARISFolderPath) and os.path.exists(ARISFilePath):\n",
    "                print(\"Processing %s\" %(ARISFilePath))\n",
    "                ARISFileName = os.path.splitext(os.path.basename(ARISFilePath))[0]\n",
    "                videoFolderPath = os.path.join(output_video_folder_path, ARISfolderName)\n",
    "                create_folder(videoFolderPath)\n",
    "\n",
    "                ARISdata, _ = pyARIS.DataImport(ARISFilePath)\n",
    "                pyARIS.VideoExportOriginal(ARISdata, filename=os.path.join(videoFolderPath, \"%s.mp4\" %(ARISFileName)))\n",
    "\n",
    "                csvWriter.writerow([ARISFileName, os.path.join(videoFolderPath, \"%s.mp4\" %(ARISFileName)), os.path.join(sonarDataDir, \"annotation\", item)])\n",
    "\n",
    "def annotation_converter_helper(datum_proj_path, coco_output_proj_path):\n",
    "    dataset = dm.Dataset.import_from(datum_proj_path, 'datumaro')\n",
    "    dataset.export(coco_output_proj_path, 'coco')\n",
    "\n",
    "def convert_annotation_to_coco():\n",
    "    datum_proj_path = os.path.join(outputDir, \"datum_proj\")\n",
    "    datum_anno_path = os.path.join(outputDir, \"annotation\")\n",
    "    coco_proj_path = os.path.join(outputDir, \"coco_proj\")\n",
    "\n",
    "    subprocess.run([\"python3\", \"datum_create_dataset.py\", os.path.join(outputDir, \"fileInfo.csv\"), \n",
    "                    \"--proj-path\", datum_proj_path,\n",
    "                    \"--anno-path\", datum_anno_path])\n",
    "    pList = []\n",
    "    for item in os.listdir(datum_proj_path):\n",
    "        if os.path.isdir(os.path.join(datum_proj_path, item)):\n",
    "            datum_input_proj_path = os.path.join(datum_proj_path, item)\n",
    "            coco_output_proj_path = os.path.join(coco_proj_path, item)\n",
    "\n",
    "            p = Process(target=annotation_converter_helper, args=(datum_input_proj_path, coco_output_proj_path))\n",
    "            pList.append(p)\n",
    "            p.start()\n",
    "    \n",
    "    for p in pList:\n",
    "        p.join()\n",
    "    \n",
    "    print(\"\\n\\nDone!\")\n",
    "\n",
    "if __name__ == \"__main__\":\n",
    "    preprocess_data_and_generate_csv_file()\n",
    "    convert_annotation_to_coco()"
   ]
  }
 ],
 "metadata": {
  "kernelspec": {
   "display_name": "tf",
   "language": "python",
   "name": "python3"
  },
  "language_info": {
   "codemirror_mode": {
    "name": "ipython",
    "version": 3
   },
   "file_extension": ".py",
   "mimetype": "text/x-python",
   "name": "python",
   "nbconvert_exporter": "python",
   "pygments_lexer": "ipython3",
   "version": "3.9.16"
  },
  "orig_nbformat": 4
 },
 "nbformat": 4,
 "nbformat_minor": 2
}
