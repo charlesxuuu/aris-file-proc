{
 "cells": [
  {
   "cell_type": "code",
   "execution_count": 9,
   "metadata": {},
   "outputs": [
    {
     "name": "stderr",
     "output_type": "stream",
     "text": [
      "  0%|          | 0/2768 [00:00<?, ?it/s]ffmpeg version 4.2.2 Copyright (c) 2000-2019 the FFmpeg developers\n",
      "  built with gcc 7.3.0 (crosstool-NG 1.23.0.449-a04d0)\n",
      "  configuration: --prefix=/tmp/build/80754af9/ffmpeg_1587154242452/_h_env_placehold_placehold_placehold_placehold_placehold_placehold_placehold_placehold_placehold_placehold_placehold_placehold_placehold_placehold_placehold_placehold_placehold_placehold_placehold_placehold_placeho --cc=/tmp/build/80754af9/ffmpeg_1587154242452/_build_env/bin/x86_64-conda_cos6-linux-gnu-cc --disable-doc --enable-avresample --enable-gmp --enable-hardcoded-tables --enable-libfreetype --enable-libvpx --enable-pthreads --enable-libopus --enable-postproc --enable-pic --enable-pthreads --enable-shared --enable-static --enable-version3 --enable-zlib --enable-libmp3lame --disable-nonfree --enable-gpl --enable-gnutls --disable-openssl --enable-libopenh264 --enable-libx264\n",
      "  libavutil      56. 31.100 / 56. 31.100\n",
      "  libavcodec     58. 54.100 / 58. 54.100\n",
      "  libavformat    58. 29.100 / 58. 29.100\n",
      "  libavdevice    58.  8.100 / 58.  8.100\n",
      "  libavfilter     7. 57.100 /  7. 57.100\n",
      "  libavresample   4.  0.  0 /  4.  0.  0\n",
      "  libswscale      5.  5.100 /  5.  5.100\n",
      "  libswresample   3.  5.100 /  3.  5.100\n",
      "  libpostproc    55.  5.100 / 55.  5.100\n",
      "  1%|▏         | 37/2768 [00:00<00:07, 365.83it/s]Input #0, image2pipe, from 'pipe:':\n",
      "  Duration: N/A, bitrate: N/A\n",
      "    Stream #0:0: Video: mjpeg (Baseline), gray(bt470bg/unknown/unknown), 620x1278 [SAR 1:1 DAR 310:639], 24 fps, 24 tbr, 24 tbn, 24 tbc\n",
      "Stream mapping:\n",
      "  Stream #0:0 -> #0:0 (mjpeg (native) -> h264 (libx264))\n",
      "[libx264 @ 0x55f1f9a78a00] using SAR=1/1\n",
      "[libx264 @ 0x55f1f9a78a00] using cpu capabilities: MMX2 SSE2Fast SSSE3 SSE4.2 AVX FMA3 BMI2 AVX2\n",
      "[libx264 @ 0x55f1f9a78a00] profile High 4:4:4 Predictive, level 3.1, 4:0:0, 8-bit\n",
      "[libx264 @ 0x55f1f9a78a00] 64 - core 157 - H.264/MPEG-4 AVC codec - Copyleft 2003-2018 - http://www.videolan.org/x264.html - options: cabac=1 ref=3 deblock=1:0:0 analyse=0x1:0x111 me=hex subme=7 psy=0 mixed_ref=1 me_range=16 chroma_me=0 trellis=0 8x8dct=1 cqm=0 deadzone=21,11 fast_pskip=0 chroma_qp_offset=0 threads=30 lookahead_threads=5 sliced_threads=0 nr=0 decimate=1 interlaced=0 bluray_compat=0 constrained_intra=0 bframes=0 weightp=2 keyint=250 keyint_min=24 scenecut=40 intra_refresh=0 rc=cqp mbtree=0 qp=0\n",
      "Output #0, mp4, to './output/video/ARIS_2020_05_31/2020-05-31_015000.mp4':\n",
      "  Metadata:\n",
      "    encoder         : Lavf58.29.100\n",
      "    Stream #0:0: Video: h264 (libx264) (avc1 / 0x31637661), gray, 620x1278 [SAR 1:1 DAR 310:639], q=-1--1, 24 fps, 12288 tbn, 24 tbc\n",
      "    Metadata:\n",
      "      encoder         : Lavc58.54.100 libx264\n",
      "    Side data:\n",
      "      cpb: bitrate max/min/avg: 0/0/0 buffer size: 0 vbv_delay: -1\n",
      "100%|██████████| 2768/2768 [00:32<00:00, 84.68it/s] frame= 2369 fps= 85 q=0.0 size=  660480kB time=00:01:37.37 bitrate=55565.1kbits/s speed=3.49x    ame=  121 fps=120 q=0.0 size=   25344kB time=00:00:03.70 bitrate=55985.8kbits/s speed=3.68x    frame=  158 fps=104 q=0.0 size=   35840kB time=00:00:05.25 bitrate=55923.3kbits/s speed=3.45x    frame=  191 fps= 94 q=0.0 size=   45056kB time=00:00:06.62 bitrate=55712.4kbits/s speed=3.27x    frame=  233 fps= 92 q=0.0 size=   56832kB time=00:00:08.37 bitrate=55589.7kbits/s speed=3.31x    frame=  272 fps= 89 q=0.0 size=   67840kB time=00:00:10.00 bitrate=55574.1kbits/s speed=3.29x    frame=  314 fps= 89 q=0.0 size=   79872kB time=00:00:11.75 bitrate=55685.7kbits/s speed=3.32x    frame=  349 fps= 86 q=0.0 size=   89600kB time=00:00:13.20 bitrate=55570.9kbits/s speed=3.26x    frame=  395 fps= 87 q=0.0 size=  102656kB time=00:00:15.12 bitrate=55600.3kbits/s speed=3.32x    frame=  438 fps= 87 q=0.0 size=  114944kB time=00:00:16.91 bitrate=55662.1kbits/s speed=3.35x    frame=  478 fps= 86 q=0.0 size=  126208kB time=00:00:18.58 bitrate=55635.4kbits/s speed=3.34x    frame=  513 fps= 85 q=0.0 size=  135936kB time=00:00:20.04 bitrate=55563.4kbits/s speed=3.31x    frame=  560 fps= 85 q=0.0 size=  149248kB time=00:00:22.00 bitrate=55574.3kbits/s speed=3.35x    frame=  597 fps= 84 q=0.0 size=  159744kB time=00:00:23.54 bitrate=55587.3kbits/s speed=3.32x    frame=  639 fps= 84 q=0.0 size=  171520kB time=00:00:25.29 bitrate=55555.4kbits/s speed=3.33x    frame=  673 fps= 83 q=0.0 size=  181248kB time=00:00:26.70 bitrate=55592.4kbits/s speed=3.29x    frame=  723 fps= 84 q=0.0 size=  195328kB time=00:00:28.79 bitrate=55575.9kbits/s speed=3.34x    frame=  763 fps= 84 q=0.0 size=  206592kB time=00:00:30.45 bitrate=55564.4kbits/s speed=3.34x    frame=  805 fps= 84 q=0.0 size=  218624kB time=00:00:32.20 bitrate=55605.6kbits/s speed=3.35x    frame=  843 fps= 83 q=0.0 size=  229376kB time=00:00:33.79 bitrate=55606.7kbits/s speed=3.33x    frame=  894 fps= 84 q=0.0 size=  243712kB time=00:00:35.91 bitrate=55586.6kbits/s speed=3.37x    frame=  932 fps= 84 q=0.0 size=  254464kB time=00:00:37.50 bitrate=55588.4kbits/s speed=3.36x    frame=  971 fps= 83 q=0.0 size=  265472kB time=00:00:39.12 bitrate=55584.5kbits/s speed=3.36x    frame= 1004 fps= 83 q=0.0 size=  274688kB time=00:00:40.50 bitrate=55561.5kbits/s speed=3.33x    frame= 1052 fps= 83 q=0.0 size=  288256kB time=00:00:42.50 bitrate=55562.1kbits/s speed=3.35x    frame= 1095 fps= 83 q=0.0 size=  300544kB time=00:00:44.29 bitrate=55587.3kbits/s speed=3.36x    frame= 1137 fps= 83 q=0.0 size=  312320kB time=00:00:46.04 bitrate=55569.7kbits/s speed=3.36x    frame= 1172 fps= 83 q=0.0 size=  322304kB time=00:00:47.50 bitrate=55585.5kbits/s speed=3.35x    frame= 1225 fps= 83 q=0.0 size=  337152kB time=00:00:49.70 bitrate=55563.0kbits/s speed=3.37x    frame= 1266 fps= 83 q=0.0 size=  348672kB time=00:00:51.41 bitrate=55552.4kbits/s speed=3.38x    frame= 1306 fps= 83 q=0.0 size=  359936kB time=00:00:53.08 bitrate=55546.5kbits/s speed=3.37x    frame= 1339 fps= 82 q=0.0 size=  369408kB time=00:00:54.45 bitrate=55568.8kbits/s speed=3.35x    frame= 1386 fps= 83 q=0.0 size=  382720kB time=00:00:56.41 bitrate=55572.9kbits/s speed=3.36x    frame= 1424 fps= 82 q=0.0 size=  393472kB time=00:00:58.00 bitrate=55574.5kbits/s speed=3.35x    frame= 1467 fps= 82 q=0.0 size=  405504kB time=00:00:59.79 bitrate=55557.7kbits/s speed=3.36x    frame= 1494 fps= 82 q=0.0 size=  413184kB time=00:01:00.91 bitrate=55564.4kbits/s speed=3.33x    frame= 1545 fps= 82 q=0.0 size=  427520kB time=00:01:03.04 bitrate=55554.4kbits/s speed=3.35x    frame= 1587 fps= 82 q=0.0 size=  439552kB time=00:01:04.79 bitrate=55575.1kbits/s speed=3.35x    frame= 1623 fps= 82 q=0.0 size=  449536kB time=00:01:06.29 bitrate=55551.4kbits/s speed=3.34x    frame= 1661 fps= 82 q=0.0 size=  460288kB time=00:01:07.87 bitrate=55553.2kbits/s speed=3.34x    frame= 1715 fps= 82 q=0.0 size=  475648kB time=00:01:10.12 bitrate=55565.1kbits/s speed=3.36x    frame= 1761 fps= 82 q=0.0 size=  488704kB time=00:01:12.04 bitrate=55571.4kbits/s speed=3.37x    frame= 1807 fps= 83 q=0.0 size=  501504kB time=00:01:13.95 bitrate=55549.1kbits/s speed=3.38x    frame= 1843 fps= 82 q=0.0 size=  511744kB time=00:01:15.45 bitrate=55556.5kbits/s speed=3.38x    frame= 1902 fps= 83 q=0.0 size=  528384kB time=00:01:17.91 bitrate=55553.2kbits/s speed=3.41x    frame= 1948 fps= 83 q=0.0 size=  541440kB time=00:01:19.83 bitrate=55559.2kbits/s speed=3.42x    frame= 1989 fps= 83 q=0.0 size=  552960kB time=00:01:21.54 bitrate=55552.5kbits/s speed=3.42x    frame= 2044 fps= 84 q=0.0 size=  568576kB time=00:01:23.83 bitrate=55559.9kbits/s speed=3.44x    frame= 2090 fps= 84 q=0.0 size=  581632kB time=00:01:25.75 bitrate=55565.3kbits/s speed=3.45x    frame= 2136 fps= 84 q=0.0 size=  594688kB time=00:01:27.66 bitrate=55570.5kbits/s speed=3.45x    frame= 2170 fps= 84 q=0.0 size=  604160kB time=00:01:29.08 bitrate=55557.8kbits/s speed=3.44x    frame= 2228 fps= 84 q=0.0 size=  620544kB time=00:01:31.50 bitrate=55557.3kbits/s speed=3.46x    frame= 2274 fps= 84 q=0.0 size=  633600kB time=00:01:33.41 bitrate=55562.3kbits/s speed=3.47x    frame= 2311 fps= 84 q=0.0 size=  644096kB time=00:01:34.95 bitrate=55565.7kbits/s speed=3.46x    frame= 2411 fps= 85 q=0.0 size=  672256kB time=00:01:39.12 bitrate=55557.3kbits/s speed=3.49x    frame= 2455 fps= 85 q=0.0 size=  684800kB time=00:01:40.95 bitrate=55566.3kbits/s speed=3.49x    frame= 2493 fps= 85 q=0.0 size=  695552kB time=00:01:42.54 bitrate=55567.2kbits/s speed=3.48x    frame= 2551 fps= 85 q=0.0 size=  711936kB time=00:01:44.95 bitrate=55566.6kbits/s speed=3.51x    frame= 2597 fps= 85 q=0.0 size=  724736kB time=00:01:46.87 bitrate=55551.2kbits/s speed=3.51x    frame= 2638 fps= 85 q=0.0 size=  736512kB time=00:01:48.58 bitrate=55565.6kbits/s speed=3.51x    frame= 2684 fps= 85 q=0.0 size=  749312kB time=00:01:50.50 bitrate=55550.8kbits/s speed=3.51x    frame= 2727 fps= 85 q=0.0 size=  761600kB time=00:01:52.29 bitrate=55560.9kbits/s speed=3.51x    frame= 2764 fps= 85 q=0.0 size=  772096kB time=00:01:53.83 bitrate=55563.7kbits/s speed= 3.5x    "
     ]
    },
    {
     "name": "stdout",
     "output_type": "stream",
     "text": [
      "Exists\n"
     ]
    },
    {
     "name": "stderr",
     "output_type": "stream",
     "text": [
      "\n"
     ]
    },
    {
     "name": "stderr",
     "output_type": "stream",
     "text": [
      "frame= 2768 fps= 85 q=-1.0 Lsize=  782073kB time=00:01:55.29 bitrate=55569.8kbits/s speed=3.53x    \n",
      "video:782057kB audio:0kB subtitle:0kB other streams:0kB global headers:0kB muxing overhead: 0.001957%\n",
      "[libx264 @ 0x55f1f9a78a00] frame I:17    Avg QP: 0.00  size:295025\n",
      "[libx264 @ 0x55f1f9a78a00] frame P:2751  Avg QP: 0.00  size:289281\n",
      "[libx264 @ 0x55f1f9a78a00] mb I  I16..4: 45.8%  0.0% 54.2%\n",
      "[libx264 @ 0x55f1f9a78a00] mb P  I16..4:  0.1%  0.0% 43.1%  P16..4:  4.1%  4.2%  4.0%  0.0%  0.0%    skip:44.6%\n",
      "[libx264 @ 0x55f1f9a78a00] 8x8 transform intra:0.0% inter:42.2%\n",
      "[libx264 @ 0x55f1f9a78a00] coded y intra: 98.8% inter: 17.3%\n",
      "[libx264 @ 0x55f1f9a78a00] i16 v,h,dc,p: 77% 22%  1%  0%\n",
      "[libx264 @ 0x55f1f9a78a00] i4 v,h,dc,ddl,ddr,vr,hd,vl,hu:  2% 80%  4%  2%  2%  1%  4%  1%  4%\n",
      "[libx264 @ 0x55f1f9a78a00] i8c dc,h,v,p: 100%  0%  0%  0%\n",
      "[libx264 @ 0x55f1f9a78a00] Weighted P-Frames: Y:0.0%\n",
      "[libx264 @ 0x55f1f9a78a00] ref P L0: 33.8%  5.2% 32.3% 28.7%\n",
      "[libx264 @ 0x55f1f9a78a00] kb/s:55548.64\n"
     ]
    }
   ],
   "source": [
    "import re\n",
    "import cv2\n",
    "import csv\n",
    "import time\n",
    "import pyARIS\n",
    "import threading\n",
    "import subprocess\n",
    "import numpy as np\n",
    "import datumaro as dm\n",
    "from my_utils import *\n",
    "from PIL import Image\n",
    "from tqdm import tqdm\n",
    "from dateutil import parser\n",
    "import matplotlib.pyplot as plt\n",
    "from multiprocessing import Process\n",
    "\n",
    "sonarDataDir = \"./sonar/\"\n",
    "outputDir = \"./output/\"\n",
    "\n",
    "def preprocess_data_and_generate_csv_file():\n",
    "    output_video_folder_path = os.path.join(outputDir, \"video\")\n",
    "    create_folder(output_video_folder_path)\n",
    "    r = \"(.+)_(.+)\\.zip\"\n",
    "\n",
    "    with open(os.path.join(outputDir, \"fileInfo.csv\"), \"w\") as f:\n",
    "        csvWriter = csv.writer(f)\n",
    "        csvWriter.writerow([\"filename\", \"vid_path\", \"anno_path\"])\n",
    "\n",
    "        for item in os.listdir(os.path.join(sonarDataDir, \"annotation\")):\n",
    "            match = re.match(r, item)\n",
    "            date = parser.parse(match[1])\n",
    "            time = match[2]\n",
    "\n",
    "            ARISfolderName = \"ARIS_%s\" %(date.strftime(\"%Y_%m_%d\"))\n",
    "            ARISFolderPath = os.path.join(sonarDataDir, \"ARIS\", ARISfolderName)\n",
    "            ARISFilePath = os.path.join(ARISFolderPath, \"%s_%s.aris\" %(date.strftime(\"%Y-%m-%d\"), time))\n",
    "            \n",
    "            # From annotation folder, find the corresponding ARIS file and preprocess\n",
    "            if os.path.exists(ARISFolderPath) and os.path.exists(ARISFilePath):\n",
    "                print(\"Processing %s\" %(ARISFilePath))\n",
    "                ARISFileName = os.path.splitext(os.path.basename(ARISFilePath))[0]\n",
    "                videoFolderPath = os.path.join(output_video_folder_path, ARISfolderName)\n",
    "                create_folder(videoFolderPath)\n",
    "\n",
    "                ARISdata, _ = pyARIS.DataImport(ARISFilePath)\n",
    "                pyARIS.VideoExportOriginal(ARISdata, filename=os.path.join(videoFolderPath, \"%s.mp4\" %(ARISFileName)))\n",
    "\n",
    "                csvWriter.writerow([ARISFileName, os.path.join(videoFolderPath, \"%s.mp4\" %(ARISFileName)), os.path.join(sonarDataDir, \"annotation\", item)])\n",
    "\n",
    "def convert_annotation_to_coco():\n",
    "    pass\n",
    "\n",
    "if __name__ == \"__main__\":\n",
    "    preprocess_data_and_generate_csv_file()\n",
    "\n",
    "    \n",
    "    # # create mp4 file from aris file\n",
    "    # filePath = \"./sonar/ARIS/ARIS_2020_05_31/2020-05-31_015000.aris\"\n",
    "    # ARISdata, _ = pyARIS.DataImport(filePath)\n",
    "    # pyARIS.VideoExportOriginal(ARISdata, filename=\"video.mp4\")\n",
    "\n",
    "    # # convert from datumaro to coco\n",
    "    # dataset = dm.Dataset.import_from('./datum_proj/', 'datumaro')\n",
    "    # dataset.export('save_dir', 'coco')"
   ]
  }
 ],
 "metadata": {
  "kernelspec": {
   "display_name": "tf",
   "language": "python",
   "name": "python3"
  },
  "language_info": {
   "codemirror_mode": {
    "name": "ipython",
    "version": 3
   },
   "file_extension": ".py",
   "mimetype": "text/x-python",
   "name": "python",
   "nbconvert_exporter": "python",
   "pygments_lexer": "ipython3",
   "version": "3.9.16"
  },
  "orig_nbformat": 4
 },
 "nbformat": 4,
 "nbformat_minor": 2
}
